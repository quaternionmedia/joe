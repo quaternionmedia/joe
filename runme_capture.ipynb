{
 "cells": [
  {
   "cell_type": "code",
   "execution_count": null,
   "metadata": {},
   "outputs": [],
   "source": [
    "%pip install sounddevice scipy --user"
   ]
  },
  {
   "cell_type": "code",
   "execution_count": null,
   "metadata": {},
   "outputs": [],
   "source": [
    "import sounddevice as sd\n",
    "from scipy.io.wavfile import write\n",
    "import os\n",
    "import time\n",
    "import threading\n"
   ]
  },
  {
   "cell_type": "code",
   "execution_count": null,
   "metadata": {},
   "outputs": [],
   "source": [
    "def record_chunk(i, duration, fs):\n",
    "    date = time.strftime(\"%Y-%m-%d-%H-%M-%S\")\n",
    "    filename = f'Data/Audio/output_{date}.wav'\n",
    "    print(f\"Recording {filename}...\")\n",
    "    recording = sd.rec(int(duration * fs), samplerate=fs, channels=2)\n",
    "    sd.wait()  # Wait until recording is finished\n",
    "    write(filename, fs, recording)\n",
    "    print(f\"Recording saved as {filename}\")\n",
    "\n",
    "def continuous_record_audio(duration, overlap=0, fs=44100):\n",
    "    \"\"\"\n",
    "    Continuously record audio for a specified duration and save it as a .wav file.\n",
    "\n",
    "    Parameters:\n",
    "    duration (int): Duration of each recording in seconds.\n",
    "    overlap (float): Overlap between each pair of recordings in seconds.\n",
    "    fs (int, optional): Sampling frequency. Defaults to 44100.\n",
    "    \"\"\"\n",
    "    # Read the counter from a file\n",
    "    try:\n",
    "        with open('Data/Audio/counter.txt', 'r') as f:\n",
    "            i = int(f.read())\n",
    "    except FileNotFoundError:\n",
    "        i = 0\n",
    "\n",
    "    while True:\n",
    "        threading.Thread(target=record_chunk, args=(i, duration, fs)).start()\n",
    "        i += 1\n",
    "\n",
    "        # Write the counter to a file\n",
    "        with open('Data/Audio/counter.txt', 'w') as f:\n",
    "            f.write(str(i))\n",
    "\n",
    "        time.sleep(duration - overlap)"
   ]
  },
  {
   "cell_type": "code",
   "execution_count": null,
   "metadata": {},
   "outputs": [],
   "source": [
    "continuous_record_audio(10)"
   ]
  }
 ],
 "metadata": {
  "kernelspec": {
   "display_name": "Python 3",
   "language": "python",
   "name": "python3"
  },
  "language_info": {
   "codemirror_mode": {
    "name": "ipython",
    "version": 3
   },
   "file_extension": ".py",
   "mimetype": "text/x-python",
   "name": "python",
   "nbconvert_exporter": "python",
   "pygments_lexer": "ipython3",
   "version": "3.12.3"
  }
 },
 "nbformat": 4,
 "nbformat_minor": 2
}
