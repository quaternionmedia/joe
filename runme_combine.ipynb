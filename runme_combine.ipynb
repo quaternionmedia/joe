{
 "cells": [
  {
   "cell_type": "code",
   "execution_count": null,
   "metadata": {},
   "outputs": [],
   "source": [
    "%pip install soundfile --user"
   ]
  },
  {
   "cell_type": "code",
   "execution_count": null,
   "metadata": {},
   "outputs": [],
   "source": [
    "import soundfile as sf\n",
    "import numpy as np\n"
   ]
  },
  {
   "cell_type": "code",
   "execution_count": null,
   "metadata": {},
   "outputs": [],
   "source": [
    "\n",
    "def concatenate_audios(file_list, output_filename):\n",
    "    \"\"\"\n",
    "    Concatenate a list of audio files and save the result as a new audio file.\n",
    "\n",
    "    Parameters:\n",
    "    file_list (list of str): List of filenames of the audio files to concatenate.\n",
    "    output_filename (str): Filename of the output audio file.\n",
    "    \"\"\"\n",
    "    # Read the first file to get the sample rate\n",
    "    data, samplerate = sf.read(file_list[0])\n",
    "\n",
    "    # Read the rest of the files and concatenate the data\n",
    "    for filename in file_list[1:]:\n",
    "        data_next, _ = sf.read(filename)\n",
    "        data = np.concatenate((data, data_next))\n",
    "\n",
    "    # Write the concatenated data to the output file\n",
    "    sf.write(output_filename, data, samplerate)"
   ]
  },
  {
   "cell_type": "code",
   "execution_count": null,
   "metadata": {},
   "outputs": [],
   "source": [
    "#list files in direcotry\n",
    "import os\n",
    "import glob\n",
    "files = glob.glob('Data/Audio/*.wav')\n",
    "files"
   ]
  },
  {
   "cell_type": "code",
   "execution_count": null,
   "metadata": {},
   "outputs": [],
   "source": [
    "import time\n",
    "file_time = time.strftime(\"%Y%m%d-%H%M%S\")\n",
    "concatenate_audios(files, f'Data/Audio/concatenated_{file_time}.wav')"
   ]
  }
 ],
 "metadata": {
  "kernelspec": {
   "display_name": "Python 3",
   "language": "python",
   "name": "python3"
  },
  "language_info": {
   "codemirror_mode": {
    "name": "ipython",
    "version": 3
   },
   "file_extension": ".py",
   "mimetype": "text/x-python",
   "name": "python",
   "nbconvert_exporter": "python",
   "pygments_lexer": "ipython3",
   "version": "3.12.3"
  }
 },
 "nbformat": 4,
 "nbformat_minor": 2
}
